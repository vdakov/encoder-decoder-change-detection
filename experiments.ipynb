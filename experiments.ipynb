{
 "cells": [
  {
   "cell_type": "code",
   "execution_count": 1,
   "id": "9906210e-fec8-4d95-b132-d94b1f8a223d",
   "metadata": {},
   "outputs": [],
   "source": [
    "# !pip install -r requirements.txt"
   ]
  },
  {
   "cell_type": "markdown",
   "id": "0773fc24-7a76-4abc-90ea-357423c76515",
   "metadata": {},
   "source": [
    "#### Imports\n"
   ]
  },
  {
   "cell_type": "code",
   "execution_count": 3,
   "id": "f38ccb62-9891-43a5-8af3-323bdb7eafc2",
   "metadata": {},
   "outputs": [],
   "source": [
    "import argparse\n",
    "import sys\n",
    "\n",
    "sys.path.insert(1, '../siamese_fcn')\n",
    "sys.path.insert(1, '../datasets')\n",
    "sys.path.insert(1, '../evaluation')\n",
    "sys.path.insert(1, '../results')\n",
    "sys.path.insert(1, '../visualization')\n",
    "sys.path.insert(1, '..')\n",
    "sys.path.insert(1, '../util')\n",
    "\n",
    "import os\n",
    "import torch\n",
    "import torch.nn as nn\n",
    "from torch.utils.data import DataLoader\n",
    "from metrics import evaluate_net_predictions\n",
    "from tables import create_tables\n",
    "from visualize import create_figures\n",
    "from tqdm import tqdm as tqdm\n",
    "from preprocess_util import reshape_for_torch \n",
    "from unet import Unet\n",
    "from siamunet_conc import SiamUnet_conc\n",
    "from siamunet_diff import SiamUnet_diff\n",
    "from fresunet import FresUNet\n",
    "from levir_dataset_loader import LEVIR_Dataset\n",
    "import time\n",
    "from train_test import train"
   ]
  },
  {
   "cell_type": "markdown",
   "id": "df9dc873",
   "metadata": {},
   "source": [
    "#### Load Data"
   ]
  },
  {
   "cell_type": "code",
   "execution_count": 14,
   "id": "d0cf60ce-47a1-43c3-a478-37ba95274cbb",
   "metadata": {},
   "outputs": [],
   "source": [
    "N_EPOCHS = 1\n",
    "FP_MODIFIER = 1\n",
    "BATCH_SIZE = 32\n",
    "PATCH_SIDE = 96\n",
    "TEST_RUN = True\n",
    "DIRNAME = os.path.join(\"..\", \"..\", \"data\", \"LEVIR-CD\")"
   ]
  },
  {
   "cell_type": "code",
   "execution_count": 41,
   "id": "5f4b8b45-d1fc-4218-afdd-6e906e2d6586",
   "metadata": {},
   "outputs": [],
   "source": [
    "if TEST_RUN:\n",
    "    print(TEST_RUN)\n",
    "    print(\"TEST\")\n",
    "else: \n",
    "    print(\"REAL\")\n",
    "    train_dataset = LEVIR_Dataset(DIRNAME, \"train\", PATCH_SIDE)\n",
    "    weights = torch.FloatTensor(train_dataset.weights)\n",
    "    train_loader = DataLoader(train_dataset, batch_size = BATCH_SIZE, shuffle = True, num_workers = 4)\n",
    "\n",
    "    test_dataset = LEVIR_Dataset(DIRNAME, \"test\", PATCH_SIDE)\n",
    "    test_loader = DataLoader(test_dataset, batch_size = BATCH_SIZE, shuffle = True, num_workers = 4)\n",
    "\n",
    "    val_dataset = LEVIR_Dataset(DIRNAME, \"val\", PATCH_SIDE)\n",
    "    val_loader = DataLoader(val_dataset, batch_size = BATCH_SIZE, shuffle = True, num_workers = 4)\n",
    "\n",
    "    net, net_name = FresUNet(2*3, 2), 'FresUNet'\n",
    "    net.cuda()\n",
    "    criterion = nn.NLLLoss(weight=weights)\n",
    "\n",
    "\n",
    "\n",
    "    t_start = time.time()\n",
    "    save_dir = f'{net_name}-{time.time()}.pth.tar'\n",
    "    training_metrics = train(net, net_name, train_dataset, train_loader, val_dataset, criterion, n_epochs=1, save=True, save_dir = save_dir)\n",
    "    t_end = time.time()\n",
    "    print('Elapsed time:')\n",
    "    print(t_end - t_start)\n",
    "\n",
    "    test_metrics = evaluate_net_predictions(net, criterion, test_dataset)\n",
    "    create_figures(training_metrics, test_metrics, net_name)\n",
    "    create_tables(training_metrics, test_metrics, net_name)"
   ]
  },
  {
   "cell_type": "markdown",
   "id": "a7a656e0",
   "metadata": {},
   "source": [
    "#### Load Models"
   ]
  },
  {
   "cell_type": "markdown",
   "id": "02438a9d",
   "metadata": {},
   "source": [
    "#### Evaluate Models \n"
   ]
  }
 ],
 "metadata": {
  "kernelspec": {
   "display_name": "Python 3 (ipykernel)",
   "language": "python",
   "name": "python3"
  },
  "language_info": {
   "codemirror_mode": {
    "name": "ipython",
    "version": 3
   },
   "file_extension": ".py",
   "mimetype": "text/x-python",
   "name": "python",
   "nbconvert_exporter": "python",
   "pygments_lexer": "ipython3",
   "version": "3.9.19"
  }
 },
 "nbformat": 4,
 "nbformat_minor": 5
}
