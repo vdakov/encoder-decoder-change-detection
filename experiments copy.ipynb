{
  "cells": [
    {
      "cell_type": "code",
      "execution_count": 1,
      "id": "f650ec94",
      "metadata": {},
      "outputs": [],
      "source": [
        "import os"
      ]
    },
    {
      "cell_type": "code",
      "execution_count": 13,
      "id": "61qIoeNnut3C",
      "metadata": {
        "id": "61qIoeNnut3C"
      },
      "outputs": [],
      "source": [
        "EXPERIMENT_NAME = 'CSCD-5-Epochs'\n",
        "RELATIVE_TO_DATASET = os.path.join('data')\n",
        "EPOCHS = 5\n",
        "FP_MODIFIER = 10\n",
        "BATCH_SIZE = 16\n",
        "DATASET_NAME_DIR = 'CSCD-Textures'\n",
        "DIR = os.path.join(RELATIVE_TO_DATASET, DATASET_NAME_DIR)\n",
        "DATASET_NAME = 'CSCD'\n",
        "RESTORE_PREV = True\n",
        "GENERATE_PLOTS = True"
      ]
    },
    {
      "cell_type": "code",
      "execution_count": 21,
      "id": "Ch24xq1OvIFt",
      "metadata": {
        "colab": {
          "base_uri": "https://localhost:8080/"
        },
        "id": "Ch24xq1OvIFt",
        "outputId": "e1f7efaa-f71e-4f47-aff0-49d7059b331d"
      },
      "outputs": [
        {
          "name": "stdout",
          "output_type": "stream",
          "text": [
            "Warning: Could not load custom font. Using default font. Error: [Errno 2] No such file or directory: 'Times New Roman.ttf'\n",
            "{'train-247.png', 'train-148.png', 'train-185.png', 'train-248.png', 'train-250.png', 'train-249.png', 'train-21.png', 'train-18.png', 'train-87.png', 'train-107.png', 'train-121.png', 'train-224.png', 'train-195.png', 'train-83.png', 'train-157.png', 'train-102.png', 'train-143.png', 'train-61.png', 'train-251.png', 'train-217.png', 'train-7.png', 'train-48.png', 'train-231.png', 'train-229.png', 'train-208.png', 'train-252.png', 'train-161.png', 'train-92.png', 'train-4.png', 'train-210.png', 'train-213.png', 'train-69.png', 'train-49.png', 'train-245.png', 'train-234.png', 'train-110.png', 'train-179.png', 'train-172.png', 'train-62.png', 'train-104.png', 'train-118.png', 'train-94.png', 'train-204.png', 'train-33.png', 'train-190.png', 'train-205.png', 'train-202.png', 'train-132.png', 'train-108.png', 'train-135.png', 'train-147.png', 'train-218.png', 'train-37.png', 'train-58.png', 'train-180.png', 'train-14.png', 'train-137.png', 'train-159.png', 'train-68.png', 'train-81.png', 'train-101.png', 'train-226.png', 'train-28.png', 'train-165.png', 'train-53.png', 'train-13.png', 'train-106.png', 'train-29.png', 'train-113.png', 'train-111.png', 'train-188.png', 'train-123.png', 'train-35.png', 'train-52.png', 'train-152.png', 'train-243.png', 'train-167.png', 'train-65.png', 'train-46.png', 'train-88.png', 'train-26.png', 'train-103.png', 'train-156.png', 'train-39.png', 'train-42.png', 'train-127.png', 'train-63.png', 'train-117.png', 'train-192.png', 'train-128.png', 'train-70.png', 'train-41.png', 'train-160.png', 'train-75.png', 'train-212.png', 'train-44.png', 'train-40.png', 'train-99.png', 'train-201.png', 'train-30.png', 'train-235.png', 'train-242.png', 'train-115.png', 'train-130.png', 'train-32.png', 'train-8.png', 'train-93.png', 'train-232.png', 'train-47.png', 'train-60.png', 'train-239.png', 'train-184.png', 'train-174.png', 'train-76.png', 'train-77.png', 'train-12.png', 'train-10.png', 'train-126.png', 'train-97.png', 'train-131.png', 'train-78.png', 'train-73.png', 'train-136.png', 'train-119.png', 'train-129.png', 'train-198.png', 'train-80.png', 'train-240.png', 'train-67.png', 'train-168.png', 'train-236.png', 'train-66.png', 'train-178.png', 'train-177.png', 'train-175.png', 'train-124.png', 'train-96.png', 'train-200.png', 'train-150.png', 'train-225.png', 'train-241.png', 'train-91.png', 'train-140.png', 'train-222.png', 'train-56.png', 'train-193.png', 'train-191.png', 'train-16.png', 'train-182.png', 'train-255.png', 'train-223.png', 'train-220.png', 'train-134.png', 'train-163.png', 'train-139.png', 'train-244.png', 'train-36.png', 'train-38.png', 'train-82.png', 'train-237.png', 'train-253.png', 'train-170.png', 'train-219.png', 'train-25.png', 'train-57.png', 'train-141.png', 'train-51.png', 'train-23.png', 'train-90.png', 'train-158.png', 'train-98.png', 'train-20.png', 'train-151.png', 'train-22.png', 'train-6.png', 'train-72.png', 'train-3.png', 'train-164.png', 'train-86.png', 'train-109.png', 'train-142.png', 'train-59.png', 'train-79.png', 'train-133.png', 'train-246.png', 'train-100.png', 'train-207.png', 'train-114.png', 'train-173.png', 'train-50.png', 'train-228.png', 'train-2.png', 'train-194.png', 'train-9.png', 'train-95.png', 'train-45.png', 'train-15.png', 'train-54.png', 'train-216.png', 'train-19.png', 'train-233.png', 'train-169.png', 'train-34.png', 'train-238.png', 'train-84.png', 'train-55.png', 'train-162.png', 'train-154.png', 'train-11.png', 'train-209.png', 'train-155.png', 'train-31.png', 'train-181.png', 'train-71.png', 'train-116.png', 'train-17.png', 'train-149.png', 'train-187.png', 'train-145.png', 'train-186.png', 'train-144.png', 'train-215.png', 'train-112.png', 'train-153.png', 'train-85.png', 'train-5.png', 'train-203.png', 'train-227.png', 'train-43.png', 'train-27.png', 'train-125.png', 'train-196.png', 'train-146.png', 'train-199.png', 'train-197.png', 'train-122.png', 'train-189.png', 'train-221.png', 'train-176.png', 'train-166.png', 'train-120.png', 'train-138.png', 'train-254.png', 'train-211.png', 'train-171.png', 'train-24.png', 'train-230.png', 'train-105.png', 'train-1.png', 'train-206.png', 'train-74.png', 'train-183.png', 'train-0.png', 'train-64.png', 'train-89.png', 'train-214.png'}\n",
            "{'val-13.png', 'val-3.png', 'val-10.png', 'val-0.png', 'val-19.png', 'val-12.png', 'val-14.png', 'val-17.png', 'val-23.png', 'val-11.png', 'val-16.png', 'val-4.png', 'val-21.png', 'val-20.png', 'val-15.png', 'val-5.png', 'val-2.png', 'val-1.png', 'val-6.png', 'val-18.png', 'val-8.png', 'val-9.png', 'val-7.png', 'val-22.png'}\n",
            "{'test-30.png', 'test-136.png', 'test-185.png', 'test-53.png', 'test-140.png', 'test-61.png', 'test-171.png', 'test-64.png', 'test-198.png', 'test-10.png', 'test-13.png', 'test-241.png', 'test-113.png', 'test-191.png', 'test-62.png', 'test-41.png', 'test-216.png', 'test-186.png', 'test-14.png', 'test-38.png', 'test-26.png', 'test-175.png', 'test-153.png', 'test-83.png', 'test-107.png', 'test-154.png', 'test-223.png', 'test-168.png', 'test-225.png', 'test-233.png', 'test-184.png', 'test-11.png', 'test-192.png', 'test-208.png', 'test-211.png', 'test-47.png', 'test-167.png', 'test-56.png', 'test-187.png', 'test-249.png', 'test-9.png', 'test-127.png', 'test-103.png', 'test-141.png', 'test-118.png', 'test-66.png', 'test-91.png', 'test-40.png', 'test-39.png', 'test-203.png', 'test-21.png', 'test-206.png', 'test-255.png', 'test-32.png', 'test-183.png', 'test-172.png', 'test-87.png', 'test-150.png', 'test-176.png', 'test-238.png', 'test-76.png', 'test-69.png', 'test-177.png', 'test-128.png', 'test-158.png', 'test-121.png', 'test-1.png', 'test-137.png', 'test-0.png', 'test-120.png', 'test-126.png', 'test-207.png', 'test-74.png', 'test-92.png', 'test-161.png', 'test-132.png', 'test-199.png', 'test-60.png', 'test-226.png', 'test-219.png', 'test-51.png', 'test-25.png', 'test-189.png', 'test-248.png', 'test-240.png', 'test-179.png', 'test-195.png', 'test-97.png', 'test-112.png', 'test-49.png', 'test-6.png', 'test-79.png', 'test-57.png', 'test-197.png', 'test-59.png', 'test-73.png', 'test-138.png', 'test-215.png', 'test-33.png', 'test-247.png', 'test-159.png', 'test-114.png', 'test-100.png', 'test-52.png', 'test-63.png', 'test-89.png', 'test-75.png', 'test-246.png', 'test-124.png', 'test-253.png', 'test-221.png', 'test-243.png', 'test-155.png', 'test-70.png', 'test-116.png', 'test-228.png', 'test-106.png', 'test-19.png', 'test-196.png', 'test-156.png', 'test-143.png', 'test-45.png', 'test-244.png', 'test-16.png', 'test-67.png', 'test-68.png', 'test-232.png', 'test-254.png', 'test-222.png', 'test-117.png', 'test-230.png', 'test-42.png', 'test-15.png', 'test-180.png', 'test-93.png', 'test-148.png', 'test-217.png', 'test-134.png', 'test-58.png', 'test-157.png', 'test-5.png', 'test-131.png', 'test-210.png', 'test-251.png', 'test-65.png', 'test-250.png', 'test-224.png', 'test-119.png', 'test-166.png', 'test-145.png', 'test-24.png', 'test-205.png', 'test-4.png', 'test-31.png', 'test-181.png', 'test-160.png', 'test-55.png', 'test-37.png', 'test-194.png', 'test-105.png', 'test-214.png', 'test-27.png', 'test-169.png', 'test-178.png', 'test-84.png', 'test-29.png', 'test-111.png', 'test-202.png', 'test-90.png', 'test-236.png', 'test-8.png', 'test-173.png', 'test-125.png', 'test-94.png', 'test-144.png', 'test-44.png', 'test-50.png', 'test-146.png', 'test-163.png', 'test-204.png', 'test-129.png', 'test-149.png', 'test-2.png', 'test-218.png', 'test-108.png', 'test-231.png', 'test-98.png', 'test-46.png', 'test-142.png', 'test-182.png', 'test-22.png', 'test-95.png', 'test-252.png', 'test-122.png', 'test-18.png', 'test-190.png', 'test-23.png', 'test-48.png', 'test-81.png', 'test-71.png', 'test-96.png', 'test-212.png', 'test-80.png', 'test-193.png', 'test-110.png', 'test-201.png', 'test-20.png', 'test-151.png', 'test-77.png', 'test-102.png', 'test-245.png', 'test-164.png', 'test-12.png', 'test-220.png', 'test-209.png', 'test-78.png', 'test-229.png', 'test-99.png', 'test-36.png', 'test-101.png', 'test-34.png', 'test-35.png', 'test-82.png', 'test-130.png', 'test-72.png', 'test-174.png', 'test-170.png', 'test-7.png', 'test-3.png', 'test-109.png', 'test-28.png', 'test-213.png', 'test-188.png', 'test-165.png', 'test-227.png', 'test-239.png', 'test-200.png', 'test-115.png', 'test-237.png', 'test-135.png', 'test-147.png', 'test-86.png', 'test-242.png', 'test-152.png', 'test-85.png', 'test-235.png', 'test-139.png', 'test-133.png', 'test-43.png', 'test-54.png', 'test-88.png', 'test-104.png', 'test-234.png', 'test-162.png', 'test-17.png', 'test-123.png'}\n",
            "Training  Early :\n",
            "Epoch 1/5: 100%|███████████████| 256/256 [00:05<00:00, 43.89batch/s, loss=0.217]\n",
            "Epoch 2/5: 100%|██████████████| 256/256 [00:05<00:00, 46.74batch/s, loss=0.0917]\n",
            "Epoch 3/5: 100%|███████████████| 256/256 [00:05<00:00, 46.01batch/s, loss=0.192]\n",
            "Epoch 4/5: 100%|███████████████| 256/256 [00:05<00:00, 45.38batch/s, loss=0.149]\n",
            "Epoch 5/5: 100%|████████████████| 256/256 [00:05<00:00, 45.44batch/s, loss=0.17]\n",
            "[{'net_loss': 0.00891785187801967, 'net_accuracy': 36.19791666665724, 'precision': 0, 'recall': 0.0, 'f1': 0}, {'net_loss': 0.007186973486871769, 'net_accuracy': 36.19791666665724, 'precision': 0, 'recall': 0.0, 'f1': 0}, {'net_loss': 0.006234663422219455, 'net_accuracy': 36.19791666665724, 'precision': 0, 'recall': 0.0, 'f1': 0}, {'net_loss': 0.005913345463341102, 'net_accuracy': 36.19791666665724, 'precision': 0, 'recall': 0.0, 'f1': 0}, {'net_loss': 0.00528887243126519, 'net_accuracy': 91.9270833333094, 'precision': 0.8879668049792531, 'recall': 0.981651376146789, 'f1': 0.9324618736383441}] [{'net_loss': 0.008926822299448153, 'net_accuracy': 36.19791666665724, 'precision': 0, 'recall': 0.0, 'f1': 0}, {'net_loss': 0.007212552659135933, 'net_accuracy': 36.19791666665724, 'precision': 0, 'recall': 0.0, 'f1': 0}, {'net_loss': 0.0062335538774884, 'net_accuracy': 36.19791666665724, 'precision': 0, 'recall': 0.0, 'f1': 0}, {'net_loss': 0.005915313813602552, 'net_accuracy': 36.19791666665724, 'precision': 0, 'recall': 0.0, 'f1': 0}, {'net_loss': 0.00529573526000604, 'net_accuracy': 91.9270833333094, 'precision': 0.8879668049792531, 'recall': 0.981651376146789, 'f1': 0.9324618736383441}] {'net_loss': 0.007870427321449824, 'net_accuracy': 87.69531249999785, 'precision': 0.8625629113433991, 'recall': 0.9373159444678166, 'f1': 0.8983870967741936}\n",
            "Training  Middle-Conc :\n",
            "Epoch 1/5: 100%|███████████████| 256/256 [00:21<00:00, 11.73batch/s, loss=0.075]\n",
            "Epoch 2/5: 100%|███████████████| 256/256 [00:21<00:00, 11.86batch/s, loss=0.037]\n",
            "Epoch 3/5: 100%|██████████████| 256/256 [00:21<00:00, 12.05batch/s, loss=0.0925]\n",
            "Epoch 4/5: 100%|██████████████| 256/256 [00:21<00:00, 11.83batch/s, loss=0.0567]\n",
            "Epoch 5/5:   4%|▌               | 9/256 [00:00<00:21, 11.63batch/s, loss=0.0663]^C\n",
            "Epoch 5/5:   4%|▌              | 10/256 [00:00<00:23, 10.55batch/s, loss=0.0663]\n",
            "Traceback (most recent call last):\n",
            "  File \"/home/vdakov/Desktop/encoder-decoder-change-detection/experiment.py\", line 246, in <module>\n",
            "    run_experiment(EXPERIMENT_NAME, DATASET_NAME, [train_dataset, val_dataset, test_dataset],\n",
            "  File \"/home/vdakov/Desktop/encoder-decoder-change-detection/experiment.py\", line 154, in run_experiment\n",
            "    training_metrics, validation_metrics = train(net, train_set_loader, val_set_loader, criterion, DEVICE, n_epochs= epochs, save=True, save_dir = f'{model_path}.pth', skip_val = False, early_stopping = True)\n",
            "  File \"/home/vdakov/Desktop/encoder-decoder-change-detection/train_test.py\", line 44, in train\n",
            "    output = net(I1, I2).to(device)\n",
            "  File \"/home/vdakov/anaconda3/envs/change-detection/lib/python3.10/site-packages/torch/nn/modules/module.py\", line 1739, in _wrapped_call_impl\n",
            "    return self._call_impl(*args, **kwargs)\n",
            "  File \"/home/vdakov/anaconda3/envs/change-detection/lib/python3.10/site-packages/torch/nn/modules/module.py\", line 1750, in _call_impl\n",
            "    return forward_call(*args, **kwargs)\n",
            "  File \"/home/vdakov/Desktop/encoder-decoder-change-detection/siamese_fcn/siamunet_conc.py\", line 120, in forward\n",
            "    x43_1 = self.do43(F.relu(self.bn43(self.conv43(x42))))\n",
            "  File \"/home/vdakov/anaconda3/envs/change-detection/lib/python3.10/site-packages/torch/nn/modules/module.py\", line 1739, in _wrapped_call_impl\n",
            "    return self._call_impl(*args, **kwargs)\n",
            "  File \"/home/vdakov/anaconda3/envs/change-detection/lib/python3.10/site-packages/torch/nn/modules/module.py\", line 1750, in _call_impl\n",
            "    return forward_call(*args, **kwargs)\n",
            "  File \"/home/vdakov/anaconda3/envs/change-detection/lib/python3.10/site-packages/torch/nn/modules/batchnorm.py\", line 193, in forward\n",
            "    return F.batch_norm(\n",
            "  File \"/home/vdakov/anaconda3/envs/change-detection/lib/python3.10/site-packages/torch/nn/functional.py\", line 2822, in batch_norm\n",
            "    return torch.batch_norm(\n",
            "KeyboardInterrupt\n"
          ]
        }
      ],
      "source": [
        "!python experiment.py --experiment_name=$EXPERIMENT_NAME --epochs=$EPOCHS --fp_modifier=$FP_MODIFIER --batch_size=$BATCH_SIZE --dir=$DIR --dataset_name=$DATASET_NAME --generate_plots=$GENERATE_PLOTS"
      ]
    },
    {
      "cell_type": "code",
      "execution_count": 11,
      "id": "Udh1aua3rnJv",
      "metadata": {
        "id": "Udh1aua3rnJv"
      },
      "outputs": [],
      "source": [
        "EXPERIMENT_NAME = 'LEVIR-100-Epochs'\n",
        "RELATIVE_TO_DATASET = os.path.join('data')\n",
        "EPOCHS = 100\n",
        "FP_MODIFIER = 10\n",
        "BATCH_SIZE = 4\n",
        "DATASET_NAME_DIR = 'LEVIR-CD'\n",
        "DIR = os.path.join(RELATIVE_TO_DATASET, DATASET_NAME_DIR)\n",
        "DATASET_NAME = 'LEVIR'\n",
        "RESTORE_PREV = True\n",
        "GENERATE_PLOTS = True"
      ]
    },
    {
      "cell_type": "code",
      "execution_count": 23,
      "id": "0p-Nu-CArumQ",
      "metadata": {
        "colab": {
          "base_uri": "https://localhost:8080/"
        },
        "id": "0p-Nu-CArumQ",
        "outputId": "fe1819b3-6074-46b9-eea5-c5c88de32e4a"
      },
      "outputs": [
        {
          "name": "stdout",
          "output_type": "stream",
          "text": [
            "Warning: Could not load custom font. Using default font. Error: [Errno 2] No such file or directory: 'Times New Roman.ttf'\n",
            "[ WARN:0@1.011] global loadsave.cpp:241 findDecoder imread_('data/LEVIR-CD/train/B/train_99.png'): can't open/read file: check file path/integrity\n",
            "Traceback (most recent call last):\n",
            "  File \"/home/vdakov/Desktop/encoder-decoder-change-detection/experiment.py\", line 233, in <module>\n",
            "    train_dataset = get_dataset(DATASET_NAME, DIRECTORY, \"train\", FP_MODIFIER, transform=data_transform, PATCH_SIDE = PATCH_SIDE)\n",
            "                    ^^^^^^^^^^^^^^^^^^^^^^^^^^^^^^^^^^^^^^^^^^^^^^^^^^^^^^^^^^^^^^^^^^^^^^^^^^^^^^^^^^^^^^^^^^^^^^^^^^^^^^^^^^^^^\n",
            "  File \"/home/vdakov/Desktop/encoder-decoder-change-detection/experiment.py\", line 189, in get_dataset\n",
            "    return DATASETS[dataset_name](dirname, mode, FP_MODIFIER, patch_side=PATCH_SIDE, transform=transform)\n",
            "           ^^^^^^^^^^^^^^^^^^^^^^^^^^^^^^^^^^^^^^^^^^^^^^^^^^^^^^^^^^^^^^^^^^^^^^^^^^^^^^^^^^^^^^^^^^^^^^\n",
            "  File \"/home/vdakov/Desktop/encoder-decoder-change-detection/pytorch_datasets/levir_dataset_loader.py\", line 67, in __init__\n",
            "    b = reshape_for_torch(cv2.imread(os.path.join(dirname,set_name, \"B\", name)))\n",
            "        ^^^^^^^^^^^^^^^^^^^^^^^^^^^^^^^^^^^^^^^^^^^^^^^^^^^^^^^^^^^^^^^^^^^^^^^^\n",
            "  File \"/home/vdakov/Desktop/encoder-decoder-change-detection/preprocessing/reshape.py\", line 7, in reshape_for_torch\n",
            "    out = img.transpose((2, 0, 1))\n",
            "          ^^^^^^^^^^^^^\n",
            "AttributeError: 'NoneType' object has no attribute 'transpose'\n"
          ]
        }
      ],
      "source": [
        "!python experiment.py --experiment_name=$EXPERIMENT_NAME --epochs=$EPOCHS --fp_modifier=$FP_MODIFIER --batch_size=$BATCH_SIZE --dir=$DIR --dataset_name=$DATASET_NAME --restore_prev=True  --generate_plots=$GENERATE_PLOTS"
      ]
    }
  ],
  "metadata": {
    "accelerator": "GPU",
    "colab": {
      "gpuType": "T4",
      "machine_shape": "hm",
      "provenance": []
    },
    "kernelspec": {
      "display_name": "change-detection",
      "language": "python",
      "name": "python3"
    },
    "language_info": {
      "codemirror_mode": {
        "name": "ipython",
        "version": 3
      },
      "file_extension": ".py",
      "mimetype": "text/x-python",
      "name": "python",
      "nbconvert_exporter": "python",
      "pygments_lexer": "ipython3",
      "version": "3.10.16"
    }
  },
  "nbformat": 4,
  "nbformat_minor": 5
}
